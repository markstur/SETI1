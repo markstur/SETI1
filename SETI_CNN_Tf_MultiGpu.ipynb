{
 "cells": [
  {
   "cell_type": "markdown",
   "metadata": {
    "button": false,
    "new_sheet": false,
    "run_control": {
     "read_only": false
    }
   },
   "source": [
    "<a href=\"https://www.cognitiveclass.ai\"><img src = \"https://cognitiveclass.ai/wp-content/themes/bdu3.0/static/images/cc-logo.png\" align = left></a>\n",
    "\n",
    "<br>\n",
    "<br>\n",
    "\n",
    "--------------------\n",
    "# Search for Extra Terrestrial Intelligence (SETI)\n",
    "###  SETI Signal Classification on PowerAI with Multi GPU\n",
    "<hr>\n",
    "<br>"
   ]
  },
  {
   "cell_type": "markdown",
   "metadata": {
    "button": false,
    "new_sheet": false,
    "run_control": {
     "read_only": false
    }
   },
   "source": [
    "### Introduction\n",
    "In this Notebook, we will use the famous [SETI Dataset](https://github.com/setiQuest/ML4SETI/) to build a Convolutional Neural Networks capable to perform signals classification. CNN will say, with some associated error, what type of signal is the presented input. In this notebook, you will use IBM PowerAI with multiple GPU to train the model.\n",
    "\n",
    "### Project overview:\n",
    "Each night, using the Allen Telescope Array (ATA) in northern California, the SETI Institute scans the sky at various radio frequencies, observing star systems with known exoplanets, searching for faint but persistent signals. The current signal detection system is programmed to search only for particular kinds of signals: narrow-band carrier waves. However, the detection system sometimes triggers on signals that are not narrow-band signals  (with unknown efficiency) and are also not explicitly-known radio frequency interference (RFI). There seems to be various categories of these kinds of events that have been observed in the past.\n",
    "\n",
    "Our goal is to classify these accurately in real-time. This may allow the signal detection system to make better observational decisions, increase the efficiency of the nightly scans, and allow for explicit detection of these other signal types.\n",
    "\n",
    "For more information refer to [SETI hackathon page](https://github.com/setiQuest/ML4SETI/).\n",
    "\n",
    "\n",
    "Framing the radio signal data into spectrogram (a 2D visual representation), we can convert the problem into something akin to an image classification problem. CNN, will be run on the images which are the result of converting the signals to spectrogram.\n",
    "\n",
    "### Training on Multi-GPU:\n",
    "Today, many systems contains multiple GPUs for high performance computation. We can leverage this environments to run the training operation concurrently across multiple cards. One sample of these kind of environments is [IBM PowerAI](http://cocl.us/SETI-NIMBIX-PowerAI). In this notebook, we show you how to design and run your model on multiple GPUs.\n",
    "\n",
    "\n",
    "\n"
   ]
  },
  {
   "cell_type": "code",
   "execution_count": 1,
   "metadata": {
    "button": false,
    "new_sheet": false,
    "run_control": {
     "read_only": false
    }
   },
   "outputs": [],
   "source": [
    "import requests\n",
    "import json\n",
    "import numpy as np\n",
    "import matplotlib.pyplot as plt\n",
    "%matplotlib inline\n",
    "import tensorflow as tf\n",
    "import pickle\n",
    "import time\n",
    "#!sudo pip install sklearn\n",
    "import os\n",
    "from sklearn.metrics import confusion_matrix\n",
    "from sklearn import metrics\n",
    "from six.moves import urllib\n",
    "import sys\n",
    "import tarfile\n",
    "import re\n",
    "import math"
   ]
  },
  {
   "cell_type": "markdown",
   "metadata": {
    "button": false,
    "new_sheet": false,
    "run_control": {
     "read_only": false
    }
   },
   "source": [
    "### Set the destination folder"
   ]
  },
  {
   "cell_type": "code",
   "execution_count": 2,
   "metadata": {
    "button": false,
    "new_sheet": false,
    "run_control": {
     "read_only": false
    }
   },
   "outputs": [
    {
     "name": "stdout",
     "output_type": "stream",
     "text": [
      "tmp/SETI1_data/\n",
      "tmp/SETI1_train/\n"
     ]
    }
   ],
   "source": [
    "### SET YOUR WORKING SPACE HERE! Use this folder to save intermediate results.\n",
    "dataset_name = 'SETI_ds_64x128'\n",
    "data_dir = \"tmp/SETI1_data/\"\n",
    "train_dir = 'tmp/SETI1_train/'\n",
    "log_dir = train_dir + 'log10'\n",
    "#check point directory\n",
    "chk_directory = train_dir + '/save/'\n",
    "checkpoint_path = chk_directory + 'model.ckpt'\n",
    "\n",
    "if os.path.exists(data_dir) is False:\n",
    "    os.makedirs(data_dir)\n",
    "print data_dir\n",
    "\n",
    "\n",
    "if os.path.exists(train_dir) is False:\n",
    "    os.makedirs(train_dir)\n",
    "print train_dir"
   ]
  },
  {
   "cell_type": "markdown",
   "metadata": {
    "button": false,
    "new_sheet": false,
    "run_control": {
     "read_only": false
    }
   },
   "source": [
    "### Import dataset reader\n",
    "The signals for this notebook, have been converted to spectogram images, and stored as 4 files.\n",
    "The following cell will load a python code that help us to decode the binary file, and read the SETI dataset."
   ]
  },
  {
   "cell_type": "code",
   "execution_count": 3,
   "metadata": {
    "button": false,
    "new_sheet": false,
    "run_control": {
     "read_only": false
    }
   },
   "outputs": [
    {
     "name": "stdout",
     "output_type": "stream",
     "text": [
      "Archive:  SETI.zip\n",
      "  inflating: SETI.py                 \n",
      "  inflating: __MACOSX/._SETI.py      \n"
     ]
    }
   ],
   "source": [
    "!wget -q --output-document  SETI.zip  https://ibm.box.com/shared/static/jhqdhcblhua5dx2t7ixwm88okitjrl6l.zip\n",
    "!unzip -o SETI.zip\n",
    "import SETI"
   ]
  },
  {
   "cell_type": "markdown",
   "metadata": {
    "button": false,
    "new_sheet": false,
    "run_control": {
     "read_only": false
    }
   },
   "source": [
    "### Download data\n",
    "The dataset exist and shared on IBM box. Running the following cell, you can download the dataset and extract it."
   ]
  },
  {
   "cell_type": "code",
   "execution_count": 4,
   "metadata": {
    "button": false,
    "new_sheet": false,
    "run_control": {
     "read_only": false
    }
   },
   "outputs": [
    {
     "name": "stdout",
     "output_type": "stream",
     "text": [
      "('Successfully downloaded', 'qz33lcio9ip2j8qi2atxqs62gn3bnu2s.gz', 2432541, 'bytes.')\n"
     ]
    }
   ],
   "source": [
    "def maybe_download_and_extract():\n",
    "    DATA_URL =  'https://ibm.box.com/shared/static/qz33lcio9ip2j8qi2atxqs62gn3bnu2s.gz'\n",
    "    dest_directory = data_dir\n",
    "    if not os.path.exists(dest_directory):\n",
    "        os.makedirs(dest_directory)\n",
    "    filename = DATA_URL.split('/')[-1]\n",
    "    filepath = os.path.join(dest_directory, filename)\n",
    "    if not os.path.exists(filepath):\n",
    "        print 'No zip file exist in ', imagefilepath\n",
    "        def _progress(count, block_size, total_size):\n",
    "            sys.stdout.write('\\r>> Downloading %s %.1f%%' % (filename, float(count * block_size) / float(total_size) * 100.0))\n",
    "        sys.stdout.flush()\n",
    "        filepath, _ = urllib.request.urlretrieve(DATA_URL, filepath, _progress)\n",
    "\n",
    "    statinfo = os.stat(filepath)\n",
    "    print('Successfully downloaded', filename, statinfo.st_size, 'bytes.')\n",
    "    extracted_dir_path = os.path.join(dest_directory, dataset_name)\n",
    "    if not os.path.exists(extracted_dir_path):\n",
    "        print 'Extracting to', extracted_dir_path\n",
    "        tarfile.open(filepath, 'r:gz').extractall(dest_directory)\n",
    "maybe_download_and_extract()"
   ]
  },
  {
   "cell_type": "markdown",
   "metadata": {
    "button": false,
    "new_sheet": false,
    "run_control": {
     "read_only": false
    }
   },
   "source": [
    "### Load data SETI"
   ]
  },
  {
   "cell_type": "code",
   "execution_count": 5,
   "metadata": {
    "button": false,
    "new_sheet": false,
    "run_control": {
     "read_only": false
    }
   },
   "outputs": [
    {
     "name": "stdout",
     "output_type": "stream",
     "text": [
      "Extracting tmp/SETI1_data/SETI_ds_64x128/train-images-idx3-ubyte.gz\n",
      "Extracting tmp/SETI1_data/SETI_ds_64x128/train-labels-idx1-ubyte.gz\n",
      "Extracting tmp/SETI1_data/SETI_ds_64x128/test-images-idx3-ubyte.gz\n",
      "Extracting tmp/SETI1_data/SETI_ds_64x128/test-labels-idx1-ubyte.gz\n",
      "Number of time series: 3200\n"
     ]
    },
    {
     "data": {
      "text/plain": [
       "(3200, 8192)"
      ]
     },
     "execution_count": 5,
     "metadata": {},
     "output_type": "execute_result"
    }
   ],
   "source": [
    "ds_directory = data_dir + dataset_name\n",
    "dataset = SETI.read_data_sets(ds_directory, one_hot=True, validation_size=0)\n",
    "num_examples = dataset.train.num_examples\n",
    "print 'Number of time series:', num_examples\n",
    "dataset.train.images.shape"
   ]
  },
  {
   "cell_type": "markdown",
   "metadata": {
    "button": false,
    "new_sheet": false,
    "run_control": {
     "read_only": false
    }
   },
   "source": [
    "### Understanding the imported data\n",
    "\n",
    "The imported data can be divided as follow:\n",
    "\n",
    "- Training (dataset.train) >>  Use the given dataset with inputs and related outputs for training of NN. In our case, if you give an image that you know that represents a \"class1\", this set will tell the neural network that we expect a \"class1\" as the output.  \n",
    "        - 2,000 signals (images)\n",
    "        - dataset.train.images for inputs\n",
    "        - dataset.train.labels for outputs\n",
    "  \n",
    "  \n",
    "- Test (dataset.test) >> the model does not have access to this informations prior to the test phase. It is used to evaluate the performance and accuracy of the model against \"real life situations\". No further optimization beyond this point.  \n",
    "        - 8,000 data points\n",
    "        - dataset.test.images for inputs\n",
    "        - dataset.test.labels for outputs\n",
    "        \n",
    "        \n",
    "#### Labels\n",
    "- Each image (spectrum of signal) in the dataset has been labeled from 1 to 4, representing:\n",
    "    - squiggle\n",
    "    - narrowband\n",
    "    - noise\n",
    "    - narrowbanddrd"
   ]
  },
  {
   "cell_type": "markdown",
   "metadata": {
    "button": false,
    "new_sheet": false,
    "run_control": {
     "read_only": false
    }
   },
   "source": [
    "## Network Parameters\n",
    "\n",
    "We place the parameters on CPU.   \n",
    "__Notice:__ This code is not optimal for single-GPU training due to the cost of copying parameters between CPU and GPU."
   ]
  },
  {
   "cell_type": "code",
   "execution_count": 6,
   "metadata": {
    "button": false,
    "new_sheet": false,
    "run_control": {
     "read_only": false
    }
   },
   "outputs": [],
   "source": [
    "# Parameters\n",
    "decay_rate=0.92  #decay every 1000 steps with a base of 0.96:\n",
    "decay_steps=1500\n",
    "learning_rate = 0.005\n",
    "training_epochs = 10000\n",
    "batch_size = 128\n",
    "display_step = 100\n",
    "moving_avg_decay = 0.9999     # The decay to use for the moving average.\n",
    "\n",
    "#check point directory\n",
    "chk_directory = train_dir +'/save/'\n",
    "checkpoint_path = chk_directory + 'model.ckpt'\n",
    "\n",
    "\n",
    "num_classes = 4 # number of possible classifications for the problem\n",
    "dropout = 0.50 # Dropout, probability to keep units\n",
    "\n",
    "height = 64 # height of the image in pixels \n",
    "width = 128 # width of the image in pixels \n",
    "n_input = width * height # number of pixels in one image \n",
    "num_GPUs = 4"
   ]
  },
  {
   "cell_type": "code",
   "execution_count": 7,
   "metadata": {},
   "outputs": [],
   "source": [
    "def read_inputs():\n",
    "    train_img_ds = dataset.train.images\n",
    "    image = tf.convert_to_tensor(train_img_ds, np.float32)\n",
    "    image = tf.reshape(image, [-1,height,width,1], name = 'images')\n",
    "    train_lb_ds = dataset.train.labels\n",
    "    label = tf.convert_to_tensor(train_lb_ds, np.float32)\n",
    "    #label = tf.arg_max(label_onehot,1)\n",
    "    label  = tf.reshape(label, [-1,4], name = 'labels')\n",
    "    # Ensure that the random shuffling has good mixing properties.\n",
    "    min_fraction_of_examples_in_queue = 0.2\n",
    "    min_queue_examples = int(num_examples *  min_fraction_of_examples_in_queue)\n",
    "    print ('Filling queue with %d SETI images before starting to train. '\n",
    "    'This will take a few minutes.' % min_queue_examples)\n",
    "    num_preprocess_threads = 16\n",
    "    images, labels = tf.train.shuffle_batch([image, label], batch_size=batch_size,\n",
    "        num_threads=num_preprocess_threads,\n",
    "        capacity=min_queue_examples + 3 * batch_size,\n",
    "        min_after_dequeue=min_queue_examples, enqueue_many=True)\n",
    "    #labels = tf.reshape(label_batch, [batch_size])\n",
    "    return(images,labels)"
   ]
  },
  {
   "cell_type": "markdown",
   "metadata": {
    "button": false,
    "new_sheet": false,
    "run_control": {
     "read_only": false
    }
   },
   "source": [
    "### How to use multi GPU for training?"
   ]
  },
  {
   "cell_type": "markdown",
   "metadata": {
    "button": false,
    "new_sheet": false,
    "run_control": {
     "read_only": false
    }
   },
   "source": [
    "PowerAI supports multi-GPU calculation.  Given multiple GPU cards, we run the SETI model on each GPU as following:\n",
    "\n",
    "    1. Store all model parameters on the CPU, e.g weights and biases.\n",
    "    2. Put a copy of the SETI model on each GPU, including conv2d, pre-activation, relu, etc.\n",
    "    3. Divide up a large batch of data across the GPUs, and feed each model replica with a unique batch of data.\n",
    "    4. Compute the inference on each GPU\n",
    "    5. Calculate the gradients on each GPU\n",
    "    6. Wait until all GPUs finish processing of their batches\n",
    "    7. Update model parameters synchronously on CPU"
   ]
  },
  {
   "cell_type": "markdown",
   "metadata": {
    "button": false,
    "new_sheet": false,
    "run_control": {
     "read_only": false
    }
   },
   "source": [
    "### Variable definitions"
   ]
  },
  {
   "cell_type": "markdown",
   "metadata": {
    "button": false,
    "new_sheet": false,
    "run_control": {
     "read_only": false
    }
   },
   "source": [
    "We define all variables using __tf.get_variable()__ in order to place the variables on CPU to be shares across multiple GPU for training. "
   ]
  },
  {
   "cell_type": "code",
   "execution_count": 8,
   "metadata": {
    "button": false,
    "new_sheet": false,
    "run_control": {
     "read_only": false
    }
   },
   "outputs": [],
   "source": [
    "def _variable_on_cpu(name, shape, initializer):\n",
    "    with tf.device('/cpu:0'):\n",
    "        var = tf.get_variable(name, shape, initializer=initializer, dtype=tf.float32)\n",
    "    return var"
   ]
  },
  {
   "cell_type": "code",
   "execution_count": 9,
   "metadata": {
    "button": false,
    "new_sheet": false,
    "run_control": {
     "read_only": false
    }
   },
   "outputs": [],
   "source": [
    "def _variable_with_weight_decay(name, shape, stddev, wd):\n",
    "    var = _variable_on_cpu( name, shape ,tf.truncated_normal_initializer(stddev=stddev, dtype=tf.float32))\n",
    "    if wd is not None:\n",
    "        weight_decay = tf.multiply(tf.nn.l2_loss(var), wd, name='weight_loss')\n",
    "        tf.add_to_collection('losses', weight_decay)\n",
    "    return var"
   ]
  },
  {
   "cell_type": "markdown",
   "metadata": {
    "button": false,
    "new_sheet": false,
    "run_control": {
     "read_only": false
    }
   },
   "source": [
    "### Inference\n",
    "\n",
    "This function builds the graph as far as required for running the network forward to make predictions."
   ]
  },
  {
   "cell_type": "code",
   "execution_count": 10,
   "metadata": {
    "button": false,
    "new_sheet": false,
    "run_control": {
     "read_only": false
    }
   },
   "outputs": [],
   "source": [
    "def inference(images):\n",
    "\n",
    "    # conv1\n",
    "    with tf.variable_scope('conv1') as scope: # a sample variable would be conv1/weights\n",
    "        kernel = _variable_with_weight_decay('weights', shape=[5, 5, 1, 32], stddev=0.1,  wd=0.0)\n",
    "        conv = tf.nn.conv2d(images, kernel, strides=[1, 1, 1, 1], padding='SAME')\n",
    "        biases = _variable_on_cpu('biases', [32], tf.constant_initializer(0.1))\n",
    "        pre_activation = tf.nn.bias_add(conv, biases)\n",
    "        conv1 = tf.nn.relu(pre_activation, name=scope.name)\n",
    "\n",
    "    # pool1\n",
    "    pool1 = tf.nn.max_pool(conv1, ksize=[1, 2, 2, 1], strides=[1, 2, 2, 1], padding='SAME', name='pool1')\n",
    "    # norm1\n",
    "    norm1 = tf.nn.lrn(pool1, 4, bias=1.0, alpha=0.001 / 9.0, beta=0.75, name='norm1')\n",
    "\n",
    "    # conv2\n",
    "    with tf.variable_scope('conv2') as scope:\n",
    "        kernel = _variable_with_weight_decay('weights', shape=[5, 5, 32, 64],  stddev=0.1,  wd=0.0)\n",
    "        conv = tf.nn.conv2d(norm1, kernel, [1, 1, 1, 1], padding='SAME')\n",
    "        biases = _variable_on_cpu('biases', [64], tf.constant_initializer(0.1))\n",
    "        pre_activation = tf.nn.bias_add(conv, biases)\n",
    "        conv2 = tf.nn.relu(pre_activation, name=scope.name)\n",
    "\n",
    "    # norm2\n",
    "    norm2 = tf.nn.lrn(conv2, 4, bias=1.0, alpha=0.001 / 9.0, beta=0.75,  name='norm2')\n",
    "    # pool2\n",
    "    pool2 = tf.nn.max_pool(norm2, ksize=[1, 2, 2, 1], strides=[1, 4, 4, 1], padding='SAME', name='pool2')\n",
    "    \n",
    "    \n",
    "    # local3\n",
    "    with tf.variable_scope('local3') as scope:\n",
    "        # Move everything into depth so we can perform a single matrix multiply.\n",
    "        reshape = tf.reshape(pool2, [batch_size, -1])\n",
    "        dim = reshape.get_shape()[1].value\n",
    "        weights = _variable_with_weight_decay('weights', shape=[dim, 1024], stddev=0.04, wd=0.004)\n",
    "        biases = _variable_on_cpu('biases', [1024], tf.constant_initializer(0.1))\n",
    "        local3 = tf.nn.relu(tf.matmul(reshape, weights) + biases, name=scope.name)\n",
    "\n",
    "    # local4\n",
    "    with tf.variable_scope('local4') as scope:\n",
    "        weights = _variable_with_weight_decay('weights', shape=[1024, 256],  stddev=0.04, wd=0.004)\n",
    "        biases = _variable_on_cpu('biases', [256], tf.constant_initializer(0.1))\n",
    "        local4 = tf.nn.relu(tf.matmul(local3, weights) + biases, name=scope.name)\n",
    "        #_activation_summary(local4)\n",
    "\n",
    "    # linear layer(WX + b),\n",
    "    # We don't apply softmax here because tf.nn.sparse_softmax_cross_entropy_with_logits accepts the unscaled logits and performs the softmax internally for efficiency.\n",
    "    with tf.variable_scope('softmax_linear') as scope:\n",
    "        weights = _variable_with_weight_decay('weights', [256, num_classes],  stddev=1/256.0, wd=0.0)\n",
    "        biases = _variable_on_cpu('biases', [num_classes], tf.constant_initializer(0.0))\n",
    "        softmax_linear = tf.add(tf.matmul(local4, weights), biases, name=scope.name)\n",
    "\n",
    "    return softmax_linear"
   ]
  },
  {
   "cell_type": "markdown",
   "metadata": {
    "button": false,
    "new_sheet": false,
    "run_control": {
     "read_only": false
    }
   },
   "source": [
    "#### Loss function\n",
    "loss function, adds the ops required to generate loss, to the inference graph. It calculates the average cross entropy loss across the batch.  \n",
    "\n",
    "The total loss in calc_loss is defined as the cross entropy loss plus all of the weight decay terms (L2 loss)."
   ]
  },
  {
   "cell_type": "code",
   "execution_count": 11,
   "metadata": {
    "button": false,
    "new_sheet": false,
    "run_control": {
     "read_only": false
    }
   },
   "outputs": [],
   "source": [
    "# # Compute the total loss of the prediction with respect to the labels.\n",
    "# def calc_loss(logits, labels):\n",
    "#     labels = tf.cast(labels, tf.int64)\n",
    "#     cross_entropy = tf.nn.softmax_cross_entropy_with_logits(labels=labels, logits=logits, name='cross_entropy_per_example')\n",
    "#     cross_entropy_mean = tf.reduce_mean(cross_entropy, name='cross_entropy')\n",
    "#     tf.add_to_collection('losses', cross_entropy_mean)\n",
    "#     return tf.add_n(tf.get_collection('losses'), name='total_loss')\n",
    "    "
   ]
  },
  {
   "cell_type": "markdown",
   "metadata": {
    "button": false,
    "new_sheet": false,
    "run_control": {
     "read_only": false
    }
   },
   "source": [
    "As we want to run the CNN on multiple GPUs, we construct our model in a multi-tower fashion where each tower is assigned to a different GPU. The following function calculate the loss value for each tower."
   ]
  },
  {
   "cell_type": "code",
   "execution_count": 12,
   "metadata": {
    "button": false,
    "new_sheet": false,
    "run_control": {
     "read_only": false
    }
   },
   "outputs": [],
   "source": [
    "# Calculate the total loss on a single tower running the SETI model.\n",
    "def tower_loss(scope, logits, labels):\n",
    "    #x_batch, labels = dataset.train.next_batch(batch_size,shuffle=True)\n",
    "    #images = tf.reshape(x_batch, [-1,height,width,1], name = 'image_batch')\n",
    "    \n",
    "    # Build inference Graph.\n",
    "    #logits = inference(images) # it builds a subgraph on twoer with all the operations, to use the shared variables.\n",
    "    #_=calc_loss(logits, labels) # calculate cross_entropy_mean and add it to collection\n",
    "    labels = tf.cast(labels, tf.int64)\n",
    "    cross_entropy = tf.nn.softmax_cross_entropy_with_logits(labels=labels, logits=logits, name='cross_entropy_per_example')\n",
    "    cross_entropy_mean = tf.reduce_mean(cross_entropy, name='cross_entropy')\n",
    "    tf.add_to_collection('losses', cross_entropy_mean)\n",
    "    # Assemble all of the losses for the current tower only.\n",
    "    # 'losses' is the key for collection\n",
    "    # scope is for e.g. 'tower_0'\n",
    "    losses = tf.get_collection('losses', scope)\n",
    "\n",
    "    # Calculate the total loss for the current tower.\n",
    "    total_loss = tf.add_n(losses, name='total_loss')\n",
    "    \n",
    "    # Attach a scalar summary to all individual losses and the total loss; do the\n",
    "    # same for the averaged version of the losses.\n",
    "    for l in losses + [total_loss]:\n",
    "    # Remove 'tower_[0-9]/' from the name in case this is a multi-GPU training\n",
    "    # session. This helps the clarity of presentation on tensorboard.\n",
    "        loss_name = re.sub('%s_[0-9]*/' % 'tower_GPU', '', l.op.name)\n",
    "        tf.summary.scalar(loss_name, l)\n",
    "    \n",
    "    #tf.summary.scalar('tower_total_loss', total_loss)\n",
    "    return total_loss"
   ]
  },
  {
   "cell_type": "markdown",
   "metadata": {
    "button": false,
    "new_sheet": false,
    "run_control": {
     "read_only": false
    }
   },
   "source": [
    "#### Averaging Gradients \n",
    "\n",
    "Calculating the gradients on each tower, results in 4 group of gradients, stored in __tower_grads__. The following  function takes __tower_grads__, and calculates the average gradient for each shared variable across all towers.\n",
    "Notice: that this function provides a synchronization point across all towers.\n",
    "\n",
    " - tower_grads: List of lists of (gradient, variable) tuples. The outer list is over individual gradients. The inner list is over the gradient calculation for each tower.\n",
    "\n",
    "This function returns list of pairs of (gradient, variable) where the gradient has been averaged across all towers.\n"
   ]
  },
  {
   "cell_type": "code",
   "execution_count": 13,
   "metadata": {
    "button": false,
    "new_sheet": false,
    "run_control": {
     "read_only": false
    }
   },
   "outputs": [],
   "source": [
    "def average_gradients(tower_grads):\n",
    "    average_grads = []\n",
    "    for grad_and_vars in zip(*tower_grads):\n",
    "    # Note that each grad_and_vars looks like the following:\n",
    "    #   ((grad0_gpu0, var0_gpu0), ... , (grad0_gpuN, var0_gpuN))\n",
    "        grads = []\n",
    "        for g, _ in grad_and_vars:\n",
    "            # Add 0 dimension to the gradients to represent the tower.\n",
    "            expanded_g = tf.expand_dims(g, 0)\n",
    "\n",
    "            # Append on a 'tower' dimension which we will average over below.\n",
    "            grads.append(expanded_g)\n",
    "\n",
    "        # Average over the 'tower' dimension.\n",
    "        grad = tf.concat(axis=0, values=grads)\n",
    "        grad = tf.reduce_mean(grad, 0)\n",
    "\n",
    "        # Keep in mind that the Variables are redundant because they are shared\n",
    "        # across towers. So .. we will just return the first tower's pointer to\n",
    "        # the Variable.\n",
    "        v = grad_and_vars[0][1]\n",
    "        grad_and_var = (grad, v)\n",
    "        average_grads.append(grad_and_var)\n",
    "    return average_grads"
   ]
  },
  {
   "cell_type": "markdown",
   "metadata": {
    "button": false,
    "new_sheet": false,
    "run_control": {
     "read_only": false
    }
   },
   "source": [
    "#### Training\n",
    " - The following cell, creates a graph to run one step of training with respect to the loss.\n",
    " - It creates an optimizer and apply to all trainable variables. Add moving\n",
    "  average for all trainable variables.\n",
    " - When training a model, it is often recommended to lower the learning rate as the training progresses. \n",
    "This function applies an exponential decay function to a provided initial learning rate!"
   ]
  },
  {
   "cell_type": "code",
   "execution_count": 14,
   "metadata": {
    "button": false,
    "new_sheet": false,
    "run_control": {
     "read_only": false
    }
   },
   "outputs": [],
   "source": [
    "with tf.device('/cpu:0'):\n",
    "    #These varibales are defined on CPU\n",
    "    #with tf.Graph().as_default(), tf.device('/cpu:0'):\n",
    "    # Create a variable to track the global step.\n",
    "    global_step = tf.Variable(0, name='global_step', trainable=False)\n",
    "\n",
    "    # create learning_decay\n",
    "    # Decay the learning rate exponentially based on the number of steps.\n",
    "    lr = tf.train.exponential_decay( learning_rate,\n",
    "                                     global_step,\n",
    "                                     decay_steps,\n",
    "                                     decay_rate, staircase=True )\n",
    "    # Use the optimizer to apply the gradients that minimize the loss\n",
    "    # (and also increment the global step counter) as a single training step.\n",
    "    optimizer = tf.train.GradientDescentOptimizer(lr)\n",
    "    \n",
    "    tf.summary.scalar('learning_rate', lr)\n",
    "\n"
   ]
  },
  {
   "cell_type": "markdown",
   "metadata": {
    "button": false,
    "new_sheet": false,
    "run_control": {
     "read_only": false
    }
   },
   "source": [
    "\n",
    " - We choose a unique name for all operations within a tower. e.g. all operations in the first tower are prepended with tower_GPU0. We do it using name_scope(). It defines __operations__ with unique prefix name within each tower on the corresponding GPU. \n",
    " - All variables are placed to the CPU and accessed via tf.get_variable (no variable on GPUs).\n",
    " - we create a **train_op**, where we apply:\n",
    "     - Gradients on all weights and biases in CPU.\n",
    "     - Moving Average on all trainable variables.\n",
    " - **train_op** would be called later in the training process."
   ]
  },
  {
   "cell_type": "code",
   "execution_count": 15,
   "metadata": {
    "button": false,
    "new_sheet": false,
    "run_control": {
     "read_only": false
    }
   },
   "outputs": [
    {
     "name": "stdout",
     "output_type": "stream",
     "text": [
      "Filling queue with 640 SETI images before starting to train. This will take a few minutes.\n"
     ]
    }
   ],
   "source": [
    "# Get images and labels for CIFAR-10.\n",
    "images, labels = read_inputs()\n",
    "batch_queue = tf.contrib.slim.prefetch_queue.prefetch_queue([images, labels], capacity=2 * num_GPUs)\n",
    "\n",
    "# Calculate the gradients for each model tower.\n",
    "with tf.device('/cpu:0'):\n",
    "    towers_grads = []\n",
    "    with tf.variable_scope(tf.get_variable_scope()): # It is defined to share/reuse all the variables on CPU.\n",
    "        for i in xrange(num_GPUs):\n",
    "            with tf.device('/gpu:%d' % i):\n",
    "                with tf.name_scope('%s_%d' % ('tower_GPU', i)) as nscope:\n",
    "                    # read one batch for the GPU\n",
    "                    #x_batch, y_batch = dataset.train.next_batch(batch_size,shuffle=True)\n",
    "                    #image_batch = tf.reshape(x_batch, [-1,height,width,1], name = 'image_batch') \n",
    "                    image_batch, label_batch = batch_queue.dequeue()\n",
    "                    \n",
    "                    # Build inference part of the Graph.\n",
    "                    logits = inference(image_batch) # it builds a subgraph on twoer with all the operations, to use the shared variables.\n",
    "\n",
    "                    # This function constructs the entire SETI model, calling inference.\n",
    "                    # It shares the variables across all towers (e.g. conv1/weights).\n",
    "                    # Calculate the loss for one tower of the SETI model. \n",
    "                    loss = tower_loss(nscope, logits, label_batch)\n",
    "                    # For the next tower, when we call tower_loss() again, it calls inference(), and tries to create new variables.\n",
    "                    # For example, it tries to create conv1/weights, again.\n",
    "                    # We will reuse variables for the next tower. \n",
    "                    tf.get_variable_scope().reuse_variables()\n",
    "                    \n",
    "                    # Grads is a list over the gradient calculation for each tower.\n",
    "                    # its shape looks like [(<tensor>,<variable>), (<tensor>,<variable>), ..]\n",
    "                    # where, <tensor> is gradient value of <variable>\n",
    "                    tower_grads = optimizer.compute_gradients(loss)\n",
    "                    towers_grads.append(tower_grads)\n",
    "\n",
    "    # calculate avg gradients on CPU                \n",
    "    avg_grads = average_gradients(towers_grads)\n",
    "    \n",
    "    # Apply the gradients to adjust the shared variables.\n",
    "    apply_gradient_op = optimizer.apply_gradients(avg_grads, global_step=global_step)\n",
    "\n",
    "    # Track the moving averages of all trainable variables.\n",
    "    with tf.name_scope('Moving_Avg_Decay'):\n",
    "        variable_averages = tf.train.ExponentialMovingAverage(moving_avg_decay, global_step, name= 'variable_averages')\n",
    "        variables_averages_op = variable_averages.apply(tf.trainable_variables())\n",
    "\n",
    "    # Group all updates to into a single train op.\n",
    "    # we call train_op in learning process\n",
    "    # tf.group Creates an op that groups multiple operations.\n",
    "    # When this op finishes, all ops in input have finished. This op has no output.\n",
    "    train_op = tf.group(apply_gradient_op, variables_averages_op)"
   ]
  },
  {
   "cell_type": "markdown",
   "metadata": {
    "button": false,
    "new_sheet": false,
    "run_control": {
     "read_only": false
    }
   },
   "source": [
    "You can check the constructed graph here:"
   ]
  },
  {
   "cell_type": "raw",
   "metadata": {
    "button": false,
    "new_sheet": false,
    "run_control": {
     "read_only": false
    }
   },
   "source": [
    "# Helper functions for TF Graph visualization\n",
    "from IPython.display import clear_output, Image, display, HTML\n",
    "\n",
    "def strip_consts(graph_def, max_const_size=32):\n",
    "    \"\"\"Strip large constant values from graph_def.\"\"\"\n",
    "    strip_def = tf.GraphDef()\n",
    "    for n0 in graph_def.node:\n",
    "        n = strip_def.node.add() \n",
    "        n.MergeFrom(n0)\n",
    "        if n.op == 'Const':\n",
    "            tensor = n.attr['value'].tensor\n",
    "            size = len(tensor.tensor_content)\n",
    "            if size > max_const_size:\n",
    "                tensor.tensor_content = tf.compat.as_bytes(\"<stripped %d bytes>\"%size)\n",
    "    return strip_def\n",
    "  \n",
    "def rename_nodes(graph_def, rename_func):\n",
    "    res_def = tf.GraphDef()\n",
    "    for n0 in graph_def.node:\n",
    "        n = res_def.node.add() \n",
    "        n.MergeFrom(n0)\n",
    "        n.name = rename_func(n.name)\n",
    "        for i, s in enumerate(n.input):\n",
    "            n.input[i] = rename_func(s) if s[0]!='^' else '^'+rename_func(s[1:])\n",
    "    return res_def\n",
    "  \n",
    "def show_graph(graph_def, max_const_size=32):\n",
    "    \"\"\"Visualize TensorFlow graph.\"\"\"\n",
    "    if hasattr(graph_def, 'as_graph_def'):\n",
    "        graph_def = graph_def.as_graph_def()\n",
    "    strip_def = strip_consts(graph_def, max_const_size=max_const_size)\n",
    "    code = \"\"\"\n",
    "        <script>\n",
    "          function load() {{\n",
    "            document.getElementById(\"{id}\").pbtxt = {data};\n",
    "          }}\n",
    "        </script>\n",
    "        <link rel=\"import\" href=\"https://tensorboard.appspot.com/tf-graph-basic.build.html\" onload=load()>\n",
    "        <div style=\"height:600px\">\n",
    "          <tf-graph-basic id=\"{id}\"></tf-graph-basic>\n",
    "        </div>\n",
    "    \"\"\".format(data=repr(str(strip_def)), id='graph'+str(np.random.rand()))\n",
    "  \n",
    "    iframe = \"\"\"\n",
    "        <iframe seamless style=\"width:800px;height:620px;border:0\" srcdoc=\"{}\"></iframe>\n",
    "    \"\"\".format(code.replace('\"', '&quot;'))\n",
    "    display(HTML(iframe))\n",
    "\n",
    "# Visualizing the network graph. Be sure expand the \"mixed\" nodes to see their \n",
    "# internal structure. We are going to visualize \"Conv2D\" nodes.\n",
    "\n",
    "graph_def = tf.get_default_graph().as_graph_def()\n",
    "tmp_def = rename_nodes(graph_def, lambda s:\"/\".join(s.split('_',1)))\n",
    "show_graph(tmp_def)"
   ]
  },
  {
   "cell_type": "markdown",
   "metadata": {
    "button": false,
    "new_sheet": false,
    "run_control": {
     "read_only": false
    }
   },
   "source": [
    "#### Evaluation"
   ]
  },
  {
   "cell_type": "code",
   "execution_count": 16,
   "metadata": {
    "button": false,
    "new_sheet": false,
    "run_control": {
     "read_only": false
    }
   },
   "outputs": [],
   "source": [
    "\n",
    "x_ph  = tf.placeholder(tf.float32, shape=[None, n_input], name = 'x_ph')\n",
    "y_ph = tf.placeholder(tf.float32, shape=[None, num_classes], name = 'y_ph')\n",
    "def build_evaluation_graph():\n",
    "    with tf.variable_scope(tf.get_variable_scope()):\n",
    "\n",
    "        tf.get_variable_scope().reuse_variables()\n",
    "        image_test = tf.reshape(x_ph, [-1,height,width,1], name = 'image_test') \n",
    "        logits_test = inference(image_test)\n",
    "        pred = tf.cast(logits_test, tf.float32)\n",
    "        top_k_op = tf.nn.in_top_k(pred,tf.argmax(y_ph,1) , 1)\n",
    "        return top_k_op"
   ]
  },
  {
   "cell_type": "code",
   "execution_count": 17,
   "metadata": {
    "button": false,
    "new_sheet": false,
    "run_control": {
     "read_only": false
    }
   },
   "outputs": [],
   "source": [
    "with tf.variable_scope(tf.get_variable_scope()):\n",
    "    top_k_op = build_evaluation_graph()\n",
    "#x_batch, y_test = dataset.test.next_batch(batch_size)\n",
    "def evaluate():\n",
    "    with tf.variable_scope(tf.get_variable_scope()):\n",
    "        num_iter = int(math.ceil(dataset.test.num_examples / batch_size))\n",
    "        true_count = 0  # Counts the number of correct predictions.\n",
    "        total_sample_count = num_iter * batch_size\n",
    "        step = 0\n",
    "        while step < num_iter:\n",
    "            x_batch, y_batch = dataset.test.next_batch(batch_size)\n",
    "            predictions = sess.run([top_k_op], feed_dict={x_ph: x_batch, y_ph: y_batch})\n",
    "            true_count += np.sum(predictions)\n",
    "            #print true_count\n",
    "            step += 1\n",
    "\n",
    "        # Compute precision @ 1.\n",
    "        precision = true_count*1.0 / total_sample_count\n",
    "        tf.summary.scalar('precision', precision)\n",
    "        return precision\n"
   ]
  },
  {
   "cell_type": "markdown",
   "metadata": {
    "button": false,
    "new_sheet": false,
    "run_control": {
     "read_only": false
    }
   },
   "source": [
    "### Create checkpoint directory"
   ]
  },
  {
   "cell_type": "code",
   "execution_count": 18,
   "metadata": {
    "button": false,
    "new_sheet": false,
    "run_control": {
     "read_only": false
    }
   },
   "outputs": [
    {
     "name": "stdout",
     "output_type": "stream",
     "text": [
      "model_checkpoint_path: \"tmp/SETI1_train//save/model.ckpt-9900\"\n",
      "all_model_checkpoint_paths: \"tmp/SETI1_train//save/model.ckpt-9500\"\n",
      "all_model_checkpoint_paths: \"tmp/SETI1_train//save/model.ckpt-9600\"\n",
      "all_model_checkpoint_paths: \"tmp/SETI1_train//save/model.ckpt-9700\"\n",
      "all_model_checkpoint_paths: \"tmp/SETI1_train//save/model.ckpt-9800\"\n",
      "all_model_checkpoint_paths: \"tmp/SETI1_train//save/model.ckpt-9900\"\n",
      "\n"
     ]
    }
   ],
   "source": [
    "directory = os.path.dirname(chk_directory)\n",
    "try:\n",
    "    os.stat(directory)\n",
    "    ckpt = tf.train.get_checkpoint_state(chk_directory)\n",
    "    print ckpt\n",
    "except:\n",
    "    os.mkdir(directory) "
   ]
  },
  {
   "cell_type": "markdown",
   "metadata": {
    "button": false,
    "new_sheet": false,
    "run_control": {
     "read_only": false
    }
   },
   "source": [
    "## Training"
   ]
  },
  {
   "cell_type": "code",
   "execution_count": 19,
   "metadata": {
    "button": false,
    "new_sheet": false,
    "run_control": {
     "read_only": false
    }
   },
   "outputs": [
    {
     "name": "stdout",
     "output_type": "stream",
     "text": [
      "loading model:  tmp/SETI1_train//save/model.ckpt-9900\n"
     ]
    }
   ],
   "source": [
    "# Initializing the variables\n",
    "init = tf.global_variables_initializer()\n",
    "loss_values = []\n",
    "\n",
    "X_test = dataset.test.images\n",
    "y_test = dataset.test.labels\n",
    "\n",
    "sess = tf.Session(config=tf.ConfigProto(allow_soft_placement=True))\n",
    "sess.run(init)\n",
    "merged = tf.summary.merge_all()\n",
    "train_writer = tf.summary.FileWriter(log_dir, sess.graph)\n",
    "saver = tf.train.Saver(tf.global_variables())\n",
    "\n",
    "# Start the queue runners.\n",
    "tf.train.start_queue_runners(sess=sess)\n",
    "\n",
    "\n",
    "# load previously trained model if appilcable\n",
    "ckpt = tf.train.get_checkpoint_state(chk_directory)\n",
    "if ckpt:\n",
    "    print \"loading model: \",ckpt.model_checkpoint_path\n",
    "    #saver.restore(sess, ckpt.model_checkpoint_path)"
   ]
  },
  {
   "cell_type": "code",
   "execution_count": 21,
   "metadata": {
    "button": false,
    "new_sheet": false,
    "run_control": {
     "read_only": false
    }
   },
   "outputs": [
    {
     "name": "stdout",
     "output_type": "stream",
     "text": [
      "Training size: 3200\n",
      "Total epochs: 10000\n",
      "Batch size: 128\n",
      "Total batchs per epoch: 25\n",
      "Epoch:0000, Ep_time=10.47, g_step:0025, lr=0.005000000, cost=22.811, Test_Acc=0.25, Batch (sec)=0.017\n",
      "Epoch:0050, Ep_time=1.89, g_step:1275, lr=0.005000000, cost=21.460, Test_Acc=0.57, Batch (sec)=0.017\n",
      "Epoch:0100, Ep_time=6.78, g_step:2525, lr=0.004600000, cost=20.237, Test_Acc=0.67, Batch (sec)=0.017\n",
      "Epoch:0150, Ep_time=1.89, g_step:3775, lr=0.004232000, cost=19.128, Test_Acc=0.64, Batch (sec)=0.017\n",
      "Epoch:0200, Ep_time=6.78, g_step:5025, lr=0.003893440, cost=18.323, Test_Acc=0.62, Batch (sec)=0.018\n",
      "Epoch:0250, Ep_time=1.87, g_step:6275, lr=0.003581965, cost=17.668, Test_Acc=0.62, Batch (sec)=0.017\n",
      "Epoch:0300, Ep_time=6.96, g_step:7525, lr=0.003295408, cost=17.066, Test_Acc=0.65, Batch (sec)=0.017\n",
      "Epoch:0350, Ep_time=1.87, g_step:8775, lr=0.003295408, cost=16.634, Test_Acc=0.67, Batch (sec)=0.017\n",
      "Epoch:0400, Ep_time=5.61, g_step:10025, lr=0.003031775, cost=16.122, Test_Acc=0.64, Batch (sec)=0.017\n",
      "Epoch:0450, Ep_time=1.89, g_step:11275, lr=0.002789233, cost=15.587, Test_Acc=0.64, Batch (sec)=0.017\n",
      "Epoch:0500, Ep_time=9.31, g_step:12525, lr=0.002566095, cost=15.247, Test_Acc=0.66, Batch (sec)=0.017\n",
      "Epoch:0550, Ep_time=1.88, g_step:13775, lr=0.002360807, cost=14.837, Test_Acc=0.68, Batch (sec)=0.017\n",
      "Epoch:0600, Ep_time=6.72, g_step:15025, lr=0.002171942, cost=14.525, Test_Acc=0.67, Batch (sec)=0.018\n",
      "Epoch:0650, Ep_time=1.89, g_step:16275, lr=0.002171942, cost=14.158, Test_Acc=0.67, Batch (sec)=0.017\n",
      "Epoch:0700, Ep_time=7.02, g_step:17525, lr=0.001998187, cost=13.947, Test_Acc=0.69, Batch (sec)=0.017\n",
      "Epoch:0750, Ep_time=1.90, g_step:18775, lr=0.001838332, cost=13.668, Test_Acc=0.68, Batch (sec)=0.018\n",
      "Epoch:0800, Ep_time=6.42, g_step:20025, lr=0.001691266, cost=13.520, Test_Acc=0.69, Batch (sec)=0.017\n",
      "Epoch:0850, Ep_time=1.88, g_step:21275, lr=0.001555964, cost=13.215, Test_Acc=0.68, Batch (sec)=0.017\n",
      "Epoch:0900, Ep_time=5.84, g_step:22525, lr=0.001431487, cost=13.105, Test_Acc=0.68, Batch (sec)=0.017\n",
      "Epoch:0950, Ep_time=1.88, g_step:23775, lr=0.001431487, cost=12.886, Test_Acc=0.70, Batch (sec)=0.017\n",
      "Epoch:1000, Ep_time=7.15, g_step:25025, lr=0.001316968, cost=12.652, Test_Acc=0.69, Batch (sec)=0.017\n",
      "Epoch:1050, Ep_time=1.88, g_step:26275, lr=0.001211611, cost=12.478, Test_Acc=0.70, Batch (sec)=0.017\n",
      "Epoch:1100, Ep_time=7.36, g_step:27525, lr=0.001114682, cost=12.361, Test_Acc=0.71, Batch (sec)=0.017\n",
      "Epoch:1150, Ep_time=1.88, g_step:28775, lr=0.001025508, cost=12.112, Test_Acc=0.72, Batch (sec)=0.017\n",
      "Epoch:1200, Ep_time=6.79, g_step:30025, lr=0.000943467, cost=12.076, Test_Acc=0.72, Batch (sec)=0.017\n",
      "Epoch:1250, Ep_time=1.89, g_step:31275, lr=0.000943467, cost=11.965, Test_Acc=0.71, Batch (sec)=0.017\n",
      "Epoch:1300, Ep_time=6.84, g_step:32525, lr=0.000867990, cost=11.794, Test_Acc=0.73, Batch (sec)=0.017\n",
      "Epoch:1350, Ep_time=1.90, g_step:33775, lr=0.000798550, cost=11.808, Test_Acc=0.72, Batch (sec)=0.017\n",
      "Epoch:1400, Ep_time=6.36, g_step:35025, lr=0.000734666, cost=11.639, Test_Acc=0.72, Batch (sec)=0.017\n",
      "Epoch:1450, Ep_time=1.89, g_step:36275, lr=0.000675893, cost=11.599, Test_Acc=0.72, Batch (sec)=0.017\n",
      "Epoch:1500, Ep_time=7.05, g_step:37525, lr=0.000621822, cost=11.586, Test_Acc=0.70, Batch (sec)=0.018\n",
      "Epoch:1550, Ep_time=1.89, g_step:38775, lr=0.000621822, cost=11.393, Test_Acc=0.74, Batch (sec)=0.016\n",
      "Epoch:1600, Ep_time=6.27, g_step:40025, lr=0.000572076, cost=11.495, Test_Acc=0.71, Batch (sec)=0.018\n",
      "Epoch:1650, Ep_time=1.88, g_step:41275, lr=0.000526310, cost=11.299, Test_Acc=0.75, Batch (sec)=0.017\n",
      "Epoch:1700, Ep_time=6.40, g_step:42525, lr=0.000484205, cost=11.256, Test_Acc=0.72, Batch (sec)=0.017\n",
      "Epoch:1750, Ep_time=1.89, g_step:43775, lr=0.000445469, cost=11.183, Test_Acc=0.71, Batch (sec)=0.017\n",
      "Epoch:1800, Ep_time=7.27, g_step:45025, lr=0.000409831, cost=11.093, Test_Acc=0.73, Batch (sec)=0.018\n",
      "Epoch:1850, Ep_time=1.89, g_step:46275, lr=0.000409831, cost=11.121, Test_Acc=0.72, Batch (sec)=0.017\n",
      "Epoch:1900, Ep_time=6.61, g_step:47525, lr=0.000377045, cost=11.054, Test_Acc=0.73, Batch (sec)=0.017\n",
      "Epoch:1950, Ep_time=1.89, g_step:48775, lr=0.000346881, cost=11.002, Test_Acc=0.73, Batch (sec)=0.017\n",
      "Epoch:2000, Ep_time=6.58, g_step:50025, lr=0.000319131, cost=11.011, Test_Acc=0.72, Batch (sec)=0.017\n",
      "Epoch:2050, Ep_time=1.89, g_step:51275, lr=0.000293600, cost=11.076, Test_Acc=0.73, Batch (sec)=0.017\n",
      "Epoch:2100, Ep_time=6.98, g_step:52525, lr=0.000270112, cost=10.933, Test_Acc=0.72, Batch (sec)=0.017\n",
      "Epoch:2150, Ep_time=1.91, g_step:53775, lr=0.000270112, cost=10.918, Test_Acc=0.71, Batch (sec)=0.017\n",
      "Epoch:2200, Ep_time=6.68, g_step:55025, lr=0.000248503, cost=10.774, Test_Acc=0.74, Batch (sec)=0.017\n",
      "Epoch:2250, Ep_time=1.88, g_step:56275, lr=0.000228623, cost=10.852, Test_Acc=0.73, Batch (sec)=0.018\n",
      "Epoch:2300, Ep_time=5.52, g_step:57525, lr=0.000210333, cost=10.838, Test_Acc=0.73, Batch (sec)=0.017\n",
      "Epoch:2350, Ep_time=1.88, g_step:58775, lr=0.000193507, cost=10.777, Test_Acc=0.71, Batch (sec)=0.017\n",
      "Epoch:2400, Ep_time=7.58, g_step:60025, lr=0.000178026, cost=10.749, Test_Acc=0.73, Batch (sec)=0.017\n",
      "Epoch:2450, Ep_time=1.88, g_step:61275, lr=0.000178026, cost=10.826, Test_Acc=0.73, Batch (sec)=0.017\n",
      "Epoch:2500, Ep_time=6.82, g_step:62525, lr=0.000163784, cost=10.795, Test_Acc=0.74, Batch (sec)=0.017\n",
      "Epoch:2550, Ep_time=1.88, g_step:63775, lr=0.000150681, cost=10.630, Test_Acc=0.73, Batch (sec)=0.017\n",
      "Epoch:2600, Ep_time=6.74, g_step:65025, lr=0.000138627, cost=10.710, Test_Acc=0.73, Batch (sec)=0.017\n",
      "Epoch:2650, Ep_time=1.90, g_step:66275, lr=0.000127537, cost=10.624, Test_Acc=0.73, Batch (sec)=0.018\n",
      "Epoch:2700, Ep_time=6.77, g_step:67525, lr=0.000117334, cost=10.728, Test_Acc=0.74, Batch (sec)=0.017\n",
      "Epoch:2750, Ep_time=1.89, g_step:68775, lr=0.000117334, cost=10.618, Test_Acc=0.73, Batch (sec)=0.018\n",
      "Epoch:2800, Ep_time=6.94, g_step:70025, lr=0.000107947, cost=10.699, Test_Acc=0.74, Batch (sec)=0.017\n",
      "Epoch:2850, Ep_time=1.87, g_step:71275, lr=0.000099311, cost=10.555, Test_Acc=0.72, Batch (sec)=0.017\n",
      "Epoch:2900, Ep_time=6.77, g_step:72525, lr=0.000091366, cost=10.567, Test_Acc=0.74, Batch (sec)=0.017\n",
      "Epoch:2950, Ep_time=1.90, g_step:73775, lr=0.000084057, cost=10.557, Test_Acc=0.72, Batch (sec)=0.018\n",
      "Epoch:3000, Ep_time=4.59, g_step:75025, lr=0.000077332, cost=10.604, Test_Acc=0.76, Batch (sec)=0.017\n",
      "Epoch:3050, Ep_time=1.87, g_step:76275, lr=0.000077332, cost=10.581, Test_Acc=0.71, Batch (sec)=0.017\n",
      "Epoch:3100, Ep_time=7.12, g_step:77525, lr=0.000071146, cost=10.534, Test_Acc=0.76, Batch (sec)=0.017\n",
      "Epoch:3150, Ep_time=1.88, g_step:78775, lr=0.000065454, cost=10.513, Test_Acc=0.74, Batch (sec)=0.017\n",
      "Epoch:3200, Ep_time=8.01, g_step:80025, lr=0.000060218, cost=10.577, Test_Acc=0.73, Batch (sec)=0.017\n",
      "Epoch:3250, Ep_time=1.88, g_step:81275, lr=0.000055400, cost=10.540, Test_Acc=0.74, Batch (sec)=0.017\n",
      "Epoch:3300, Ep_time=6.50, g_step:82525, lr=0.000050968, cost=10.583, Test_Acc=0.74, Batch (sec)=0.018\n",
      "Epoch:3350, Ep_time=1.88, g_step:83775, lr=0.000050968, cost=10.482, Test_Acc=0.73, Batch (sec)=0.017\n",
      "Epoch:3400, Ep_time=6.39, g_step:85025, lr=0.000046891, cost=10.474, Test_Acc=0.75, Batch (sec)=0.018\n",
      "Epoch:3450, Ep_time=1.89, g_step:86275, lr=0.000043140, cost=10.489, Test_Acc=0.73, Batch (sec)=0.017\n",
      "Epoch:3500, Ep_time=6.04, g_step:87525, lr=0.000039688, cost=10.519, Test_Acc=0.74, Batch (sec)=0.017\n",
      "Epoch:3550, Ep_time=1.86, g_step:88775, lr=0.000036513, cost=10.524, Test_Acc=0.74, Batch (sec)=0.017\n",
      "Epoch:3600, Ep_time=6.95, g_step:90025, lr=0.000033592, cost=10.480, Test_Acc=0.73, Batch (sec)=0.017\n",
      "Epoch:3650, Ep_time=1.89, g_step:91275, lr=0.000033592, cost=10.529, Test_Acc=0.75, Batch (sec)=0.017\n",
      "Epoch:3700, Ep_time=6.27, g_step:92525, lr=0.000030905, cost=10.430, Test_Acc=0.74, Batch (sec)=0.018\n",
      "Epoch:3750, Ep_time=1.90, g_step:93775, lr=0.000028433, cost=10.447, Test_Acc=0.74, Batch (sec)=0.017\n",
      "Epoch:3800, Ep_time=7.00, g_step:95025, lr=0.000026158, cost=10.472, Test_Acc=0.74, Batch (sec)=0.017\n",
      "Epoch:3850, Ep_time=1.89, g_step:96275, lr=0.000024065, cost=10.460, Test_Acc=0.74, Batch (sec)=0.017\n",
      "Epoch:3900, Ep_time=4.78, g_step:97525, lr=0.000022140, cost=10.518, Test_Acc=0.75, Batch (sec)=0.017\n",
      "Epoch:3950, Ep_time=1.90, g_step:98775, lr=0.000022140, cost=10.528, Test_Acc=0.74, Batch (sec)=0.017\n"
     ]
    },
    {
     "name": "stdout",
     "output_type": "stream",
     "text": [
      "Epoch:4000, Ep_time=4.77, g_step:100025, lr=0.000020369, cost=10.510, Test_Acc=0.73, Batch (sec)=0.018\n",
      "Epoch:4050, Ep_time=1.90, g_step:101275, lr=0.000018739, cost=10.515, Test_Acc=0.74, Batch (sec)=0.018\n",
      "Epoch:4100, Ep_time=4.71, g_step:102525, lr=0.000017240, cost=10.507, Test_Acc=0.75, Batch (sec)=0.017\n",
      "Epoch:4150, Ep_time=1.88, g_step:103775, lr=0.000015861, cost=10.459, Test_Acc=0.74, Batch (sec)=0.017\n",
      "Epoch:4200, Ep_time=4.53, g_step:105025, lr=0.000014592, cost=10.465, Test_Acc=0.73, Batch (sec)=0.017\n",
      "Epoch:4250, Ep_time=1.89, g_step:106275, lr=0.000014592, cost=10.493, Test_Acc=0.75, Batch (sec)=0.017\n",
      "Epoch:4300, Ep_time=4.46, g_step:107525, lr=0.000013425, cost=10.466, Test_Acc=0.73, Batch (sec)=0.017\n",
      "Epoch:4350, Ep_time=1.88, g_step:108775, lr=0.000012351, cost=10.377, Test_Acc=0.74, Batch (sec)=0.017\n",
      "Epoch:4400, Ep_time=10.10, g_step:110025, lr=0.000011363, cost=10.553, Test_Acc=0.73, Batch (sec)=0.017\n",
      "Epoch:4450, Ep_time=1.88, g_step:111275, lr=0.000010454, cost=10.430, Test_Acc=0.73, Batch (sec)=0.017\n",
      "Epoch:4500, Ep_time=4.61, g_step:112525, lr=0.000009617, cost=10.497, Test_Acc=0.76, Batch (sec)=0.017\n",
      "Epoch:4550, Ep_time=1.90, g_step:113775, lr=0.000009617, cost=10.474, Test_Acc=0.74, Batch (sec)=0.017\n",
      "Epoch:4600, Ep_time=6.03, g_step:115025, lr=0.000008848, cost=10.496, Test_Acc=0.73, Batch (sec)=0.018\n",
      "Epoch:4650, Ep_time=1.88, g_step:116275, lr=0.000008140, cost=10.521, Test_Acc=0.74, Batch (sec)=0.017\n",
      "Epoch:4700, Ep_time=7.36, g_step:117525, lr=0.000007489, cost=10.547, Test_Acc=0.74, Batch (sec)=0.017\n",
      "Epoch:4750, Ep_time=1.88, g_step:118775, lr=0.000006890, cost=10.502, Test_Acc=0.74, Batch (sec)=0.018\n",
      "Epoch:4800, Ep_time=4.89, g_step:120025, lr=0.000006339, cost=10.476, Test_Acc=0.74, Batch (sec)=0.018\n",
      "Epoch:4850, Ep_time=1.90, g_step:121275, lr=0.000006339, cost=10.454, Test_Acc=0.73, Batch (sec)=0.017\n",
      "Epoch:4900, Ep_time=4.75, g_step:122525, lr=0.000005832, cost=10.481, Test_Acc=0.74, Batch (sec)=0.018\n",
      "Epoch:4950, Ep_time=1.88, g_step:123775, lr=0.000005365, cost=10.475, Test_Acc=0.74, Batch (sec)=0.017\n",
      "Epoch:5000, Ep_time=5.36, g_step:125025, lr=0.000004936, cost=10.455, Test_Acc=0.74, Batch (sec)=0.017\n",
      "Epoch:5050, Ep_time=1.89, g_step:126275, lr=0.000004541, cost=10.366, Test_Acc=0.73, Batch (sec)=0.017\n",
      "Epoch:5100, Ep_time=5.11, g_step:127525, lr=0.000004178, cost=10.532, Test_Acc=0.73, Batch (sec)=0.017\n",
      "Epoch:5150, Ep_time=1.88, g_step:128775, lr=0.000004178, cost=10.449, Test_Acc=0.76, Batch (sec)=0.017\n",
      "Epoch:5200, Ep_time=5.04, g_step:130025, lr=0.000003843, cost=10.556, Test_Acc=0.73, Batch (sec)=0.017\n",
      "Epoch:5250, Ep_time=1.90, g_step:131275, lr=0.000003536, cost=10.468, Test_Acc=0.74, Batch (sec)=0.017\n",
      "Epoch:5300, Ep_time=4.81, g_step:132525, lr=0.000003253, cost=10.478, Test_Acc=0.75, Batch (sec)=0.017\n",
      "Epoch:5350, Ep_time=1.89, g_step:133775, lr=0.000002993, cost=10.554, Test_Acc=0.72, Batch (sec)=0.017\n",
      "Epoch:5400, Ep_time=4.97, g_step:135025, lr=0.000002753, cost=10.420, Test_Acc=0.74, Batch (sec)=0.017\n",
      "Epoch:5450, Ep_time=1.89, g_step:136275, lr=0.000002753, cost=10.429, Test_Acc=0.75, Batch (sec)=0.017\n",
      "Epoch:5500, Ep_time=4.79, g_step:137525, lr=0.000002533, cost=10.447, Test_Acc=0.75, Batch (sec)=0.017\n",
      "Epoch:5550, Ep_time=1.90, g_step:138775, lr=0.000002331, cost=10.458, Test_Acc=0.73, Batch (sec)=0.017\n",
      "Epoch:5600, Ep_time=5.20, g_step:140025, lr=0.000002144, cost=10.519, Test_Acc=0.74, Batch (sec)=0.017\n",
      "Epoch:5650, Ep_time=1.89, g_step:141275, lr=0.000001973, cost=10.471, Test_Acc=0.73, Batch (sec)=0.017\n",
      "Epoch:5700, Ep_time=5.71, g_step:142525, lr=0.000001815, cost=10.459, Test_Acc=0.73, Batch (sec)=0.017\n",
      "Epoch:5750, Ep_time=1.90, g_step:143775, lr=0.000001815, cost=10.496, Test_Acc=0.75, Batch (sec)=0.017\n",
      "Epoch:5800, Ep_time=5.02, g_step:145025, lr=0.000001670, cost=10.453, Test_Acc=0.73, Batch (sec)=0.017\n",
      "Epoch:5850, Ep_time=1.88, g_step:146275, lr=0.000001536, cost=10.517, Test_Acc=0.74, Batch (sec)=0.017\n",
      "Epoch:5900, Ep_time=5.99, g_step:147525, lr=0.000001413, cost=10.442, Test_Acc=0.75, Batch (sec)=0.017\n",
      "Epoch:5950, Ep_time=1.88, g_step:148775, lr=0.000001300, cost=10.431, Test_Acc=0.73, Batch (sec)=0.017\n",
      "Epoch:6000, Ep_time=6.15, g_step:150025, lr=0.000001196, cost=10.522, Test_Acc=0.73, Batch (sec)=0.017\n",
      "Epoch:6050, Ep_time=1.89, g_step:151275, lr=0.000001196, cost=10.512, Test_Acc=0.74, Batch (sec)=0.017\n",
      "Epoch:6100, Ep_time=5.90, g_step:152525, lr=0.000001100, cost=10.477, Test_Acc=0.74, Batch (sec)=0.017\n",
      "Epoch:6150, Ep_time=1.89, g_step:153775, lr=0.000001012, cost=10.514, Test_Acc=0.75, Batch (sec)=0.018\n",
      "Epoch:6200, Ep_time=5.39, g_step:155025, lr=0.000000931, cost=10.493, Test_Acc=0.73, Batch (sec)=0.017\n",
      "Epoch:6250, Ep_time=1.89, g_step:156275, lr=0.000000857, cost=10.420, Test_Acc=0.74, Batch (sec)=0.018\n",
      "Epoch:6300, Ep_time=5.38, g_step:157525, lr=0.000000788, cost=10.565, Test_Acc=0.74, Batch (sec)=0.017\n",
      "Epoch:6350, Ep_time=1.90, g_step:158775, lr=0.000000788, cost=10.442, Test_Acc=0.73, Batch (sec)=0.017\n",
      "Epoch:6400, Ep_time=5.57, g_step:160025, lr=0.000000725, cost=10.371, Test_Acc=0.74, Batch (sec)=0.017\n",
      "Epoch:6450, Ep_time=1.89, g_step:161275, lr=0.000000667, cost=10.453, Test_Acc=0.73, Batch (sec)=0.017\n",
      "Epoch:6500, Ep_time=6.13, g_step:162525, lr=0.000000614, cost=10.490, Test_Acc=0.74, Batch (sec)=0.018\n",
      "Epoch:6550, Ep_time=1.89, g_step:163775, lr=0.000000565, cost=10.489, Test_Acc=0.75, Batch (sec)=0.017\n",
      "Epoch:6600, Ep_time=5.77, g_step:165025, lr=0.000000520, cost=10.425, Test_Acc=0.74, Batch (sec)=0.017\n",
      "Epoch:6650, Ep_time=1.89, g_step:166275, lr=0.000000520, cost=10.489, Test_Acc=0.73, Batch (sec)=0.017\n",
      "Epoch:6700, Ep_time=6.66, g_step:167525, lr=0.000000478, cost=10.475, Test_Acc=0.73, Batch (sec)=0.017\n",
      "Epoch:6750, Ep_time=1.89, g_step:168775, lr=0.000000440, cost=10.459, Test_Acc=0.75, Batch (sec)=0.017\n",
      "Epoch:6800, Ep_time=4.87, g_step:170025, lr=0.000000405, cost=10.459, Test_Acc=0.75, Batch (sec)=0.017\n",
      "Epoch:6850, Ep_time=1.88, g_step:171275, lr=0.000000372, cost=10.412, Test_Acc=0.74, Batch (sec)=0.017\n",
      "Epoch:6900, Ep_time=5.11, g_step:172525, lr=0.000000342, cost=10.463, Test_Acc=0.74, Batch (sec)=0.018\n",
      "Epoch:6950, Ep_time=1.87, g_step:173775, lr=0.000000342, cost=10.469, Test_Acc=0.74, Batch (sec)=0.017\n",
      "Epoch:7000, Ep_time=4.71, g_step:175025, lr=0.000000315, cost=10.466, Test_Acc=0.74, Batch (sec)=0.017\n",
      "Epoch:7050, Ep_time=1.89, g_step:176275, lr=0.000000290, cost=10.476, Test_Acc=0.73, Batch (sec)=0.017\n",
      "Epoch:7100, Ep_time=4.52, g_step:177525, lr=0.000000267, cost=10.533, Test_Acc=0.75, Batch (sec)=0.017\n",
      "Epoch:7150, Ep_time=1.89, g_step:178775, lr=0.000000245, cost=10.508, Test_Acc=0.74, Batch (sec)=0.018\n",
      "Epoch:7200, Ep_time=5.75, g_step:180025, lr=0.000000226, cost=10.519, Test_Acc=0.72, Batch (sec)=0.017\n",
      "Epoch:7250, Ep_time=1.89, g_step:181275, lr=0.000000226, cost=10.545, Test_Acc=0.74, Batch (sec)=0.017\n",
      "Epoch:7300, Ep_time=6.60, g_step:182525, lr=0.000000208, cost=10.442, Test_Acc=0.74, Batch (sec)=0.017\n",
      "Epoch:7350, Ep_time=1.88, g_step:183775, lr=0.000000191, cost=10.471, Test_Acc=0.73, Batch (sec)=0.017\n",
      "Epoch:7400, Ep_time=7.40, g_step:185025, lr=0.000000176, cost=10.439, Test_Acc=0.74, Batch (sec)=0.017\n",
      "Epoch:7450, Ep_time=1.88, g_step:186275, lr=0.000000162, cost=10.463, Test_Acc=0.73, Batch (sec)=0.017\n",
      "Epoch:7500, Ep_time=7.28, g_step:187525, lr=0.000000149, cost=10.505, Test_Acc=0.74, Batch (sec)=0.017\n",
      "Epoch:7550, Ep_time=1.88, g_step:188775, lr=0.000000149, cost=10.456, Test_Acc=0.74, Batch (sec)=0.017\n",
      "Epoch:7600, Ep_time=4.98, g_step:190025, lr=0.000000137, cost=10.401, Test_Acc=0.75, Batch (sec)=0.017\n",
      "Epoch:7650, Ep_time=1.88, g_step:191275, lr=0.000000126, cost=10.498, Test_Acc=0.72, Batch (sec)=0.017\n",
      "Epoch:7700, Ep_time=6.82, g_step:192525, lr=0.000000116, cost=10.496, Test_Acc=0.74, Batch (sec)=0.017\n",
      "Epoch:7750, Ep_time=1.88, g_step:193775, lr=0.000000107, cost=10.454, Test_Acc=0.73, Batch (sec)=0.017\n",
      "Epoch:7800, Ep_time=5.36, g_step:195025, lr=0.000000098, cost=10.487, Test_Acc=0.76, Batch (sec)=0.017\n",
      "Epoch:7850, Ep_time=1.90, g_step:196275, lr=0.000000098, cost=10.512, Test_Acc=0.72, Batch (sec)=0.018\n",
      "Epoch:7900, Ep_time=7.21, g_step:197525, lr=0.000000090, cost=10.456, Test_Acc=0.75, Batch (sec)=0.017\n",
      "Epoch:7950, Ep_time=1.90, g_step:198775, lr=0.000000083, cost=10.446, Test_Acc=0.73, Batch (sec)=0.017\n"
     ]
    },
    {
     "name": "stdout",
     "output_type": "stream",
     "text": [
      "Epoch:8000, Ep_time=7.43, g_step:200025, lr=0.000000076, cost=10.432, Test_Acc=0.74, Batch (sec)=0.017\n",
      "Epoch:8050, Ep_time=1.89, g_step:201275, lr=0.000000070, cost=10.414, Test_Acc=0.72, Batch (sec)=0.017\n",
      "Epoch:8100, Ep_time=7.17, g_step:202525, lr=0.000000065, cost=10.457, Test_Acc=0.76, Batch (sec)=0.017\n",
      "Epoch:8150, Ep_time=1.90, g_step:203775, lr=0.000000065, cost=10.515, Test_Acc=0.73, Batch (sec)=0.017\n",
      "Epoch:8200, Ep_time=7.58, g_step:205025, lr=0.000000059, cost=10.500, Test_Acc=0.74, Batch (sec)=0.017\n",
      "Epoch:8250, Ep_time=1.88, g_step:206275, lr=0.000000055, cost=10.446, Test_Acc=0.74, Batch (sec)=0.017\n",
      "Epoch:8300, Ep_time=7.20, g_step:207525, lr=0.000000050, cost=10.477, Test_Acc=0.72, Batch (sec)=0.017\n",
      "Epoch:8350, Ep_time=1.89, g_step:208775, lr=0.000000046, cost=10.536, Test_Acc=0.76, Batch (sec)=0.018\n",
      "Epoch:8400, Ep_time=7.47, g_step:210025, lr=0.000000043, cost=10.503, Test_Acc=0.74, Batch (sec)=0.017\n",
      "Epoch:8450, Ep_time=1.89, g_step:211275, lr=0.000000043, cost=10.450, Test_Acc=0.73, Batch (sec)=0.018\n",
      "Epoch:8500, Ep_time=7.31, g_step:212525, lr=0.000000039, cost=10.495, Test_Acc=0.74, Batch (sec)=0.017\n",
      "Epoch:8550, Ep_time=1.87, g_step:213775, lr=0.000000036, cost=10.494, Test_Acc=0.71, Batch (sec)=0.017\n",
      "Epoch:8600, Ep_time=7.78, g_step:215025, lr=0.000000033, cost=10.473, Test_Acc=0.76, Batch (sec)=0.017\n",
      "Epoch:8650, Ep_time=1.89, g_step:216275, lr=0.000000031, cost=10.521, Test_Acc=0.74, Batch (sec)=0.017\n",
      "Epoch:8700, Ep_time=7.34, g_step:217525, lr=0.000000028, cost=10.511, Test_Acc=0.73, Batch (sec)=0.017\n",
      "Epoch:8750, Ep_time=1.89, g_step:218775, lr=0.000000028, cost=10.471, Test_Acc=0.74, Batch (sec)=0.017\n",
      "Epoch:8800, Ep_time=9.03, g_step:220025, lr=0.000000026, cost=10.416, Test_Acc=0.74, Batch (sec)=0.017\n",
      "Epoch:8850, Ep_time=1.90, g_step:221275, lr=0.000000024, cost=10.422, Test_Acc=0.72, Batch (sec)=0.017\n",
      "Epoch:8900, Ep_time=6.83, g_step:222525, lr=0.000000022, cost=10.446, Test_Acc=0.74, Batch (sec)=0.017\n",
      "Epoch:8950, Ep_time=1.88, g_step:223775, lr=0.000000020, cost=10.559, Test_Acc=0.74, Batch (sec)=0.017\n",
      "Epoch:9000, Ep_time=6.52, g_step:225025, lr=0.000000018, cost=10.453, Test_Acc=0.72, Batch (sec)=0.017\n",
      "Epoch:9050, Ep_time=1.88, g_step:226275, lr=0.000000018, cost=10.462, Test_Acc=0.75, Batch (sec)=0.017\n",
      "Epoch:9100, Ep_time=5.01, g_step:227525, lr=0.000000017, cost=10.461, Test_Acc=0.73, Batch (sec)=0.017\n",
      "Epoch:9150, Ep_time=1.88, g_step:228775, lr=0.000000016, cost=10.434, Test_Acc=0.73, Batch (sec)=0.017\n",
      "Epoch:9200, Ep_time=8.20, g_step:230025, lr=0.000000014, cost=10.542, Test_Acc=0.74, Batch (sec)=0.017\n",
      "Epoch:9250, Ep_time=1.89, g_step:231275, lr=0.000000013, cost=10.460, Test_Acc=0.74, Batch (sec)=0.017\n",
      "Epoch:9300, Ep_time=6.50, g_step:232525, lr=0.000000012, cost=10.519, Test_Acc=0.74, Batch (sec)=0.017\n",
      "Epoch:9350, Ep_time=1.88, g_step:233775, lr=0.000000012, cost=10.521, Test_Acc=0.73, Batch (sec)=0.017\n",
      "Epoch:9400, Ep_time=6.93, g_step:235025, lr=0.000000011, cost=10.442, Test_Acc=0.74, Batch (sec)=0.017\n",
      "Epoch:9450, Ep_time=1.88, g_step:236275, lr=0.000000010, cost=10.470, Test_Acc=0.74, Batch (sec)=0.017\n",
      "Epoch:9500, Ep_time=6.91, g_step:237525, lr=0.000000009, cost=10.492, Test_Acc=0.73, Batch (sec)=0.017\n",
      "Epoch:9550, Ep_time=1.90, g_step:238775, lr=0.000000009, cost=10.532, Test_Acc=0.74, Batch (sec)=0.017\n",
      "Epoch:9600, Ep_time=4.79, g_step:240025, lr=0.000000008, cost=10.503, Test_Acc=0.74, Batch (sec)=0.017\n",
      "Epoch:9650, Ep_time=1.89, g_step:241275, lr=0.000000008, cost=10.462, Test_Acc=0.73, Batch (sec)=0.018\n",
      "Epoch:9700, Ep_time=5.24, g_step:242525, lr=0.000000007, cost=10.432, Test_Acc=0.74, Batch (sec)=0.017\n",
      "Epoch:9750, Ep_time=1.88, g_step:243775, lr=0.000000007, cost=10.500, Test_Acc=0.73, Batch (sec)=0.017\n",
      "Epoch:9800, Ep_time=7.94, g_step:245025, lr=0.000000006, cost=10.446, Test_Acc=0.76, Batch (sec)=0.018\n",
      "Epoch:9850, Ep_time=1.89, g_step:246275, lr=0.000000006, cost=10.450, Test_Acc=0.72, Batch (sec)=0.018\n",
      "Epoch:9900, Ep_time=5.82, g_step:247525, lr=0.000000005, cost=10.448, Test_Acc=0.74, Batch (sec)=0.017\n",
      "Epoch:9950, Ep_time=1.88, g_step:248775, lr=0.000000005, cost=10.487, Test_Acc=0.74, Batch (sec)=0.017\n",
      "('Wall Time:', '299.6')\n",
      "Optimization Finished!\n",
      "model saved to tmp/SETI1_train//save/model.ckpt\n"
     ]
    }
   ],
   "source": [
    "print 'Training size:',num_examples\n",
    "print 'Total epochs:', training_epochs\n",
    "print 'Batch size:', batch_size\n",
    "total_batch = int(num_examples / batch_size)\n",
    "print 'Total batchs per epoch:',total_batch\n",
    "# Training cycle\n",
    "tr_start = time.time()\n",
    "for epoch in range(training_epochs):\n",
    "    ep_start = time.time()\n",
    "    avg_accuracy = 0.\n",
    "\n",
    "    # Loop over all batches in one epoch\n",
    "    \n",
    "    for step in range(total_batch):\n",
    "        t_start = time.time()\n",
    "        _, loss_value = sess.run([train_op, loss])\n",
    "        duration = time.time() - t_start\n",
    "        assert not np.isnan(loss_value), 'Model diverged with loss = NaN'\n",
    "    \n",
    "    \n",
    "    # Save model every x epochs\n",
    "    if epoch >= 0 and epoch % 100 == 0:\n",
    "        saver.save(sess, checkpoint_path, global_step = epoch)\n",
    "    \n",
    "    # Summarize model every x epochs\n",
    "    if epoch >= 0 and epoch % 1 == 0:\n",
    "        summary= sess.run(merged)    \n",
    "        train_writer.add_summary(summary, epoch)\n",
    "    \n",
    "    \n",
    "    # Display model every 1 epochs\n",
    "    if epoch >= 0 and epoch % 50 == 0:\n",
    "        plr = sess.run(lr)\n",
    "        g_step = sess.run(global_step)\n",
    "        loss_values.append(loss_value)\n",
    "        sec_per_batch = duration / num_GPUs\n",
    "        test_eval = evaluate()\n",
    "        print(\"Epoch:\"+ '%04d' % (epoch) + \\\n",
    "        \", Ep_time=\" + \"{:.2f}\".format(time.time() - ep_start) + \\\n",
    "        \", g_step:\" + '%04d' % (g_step) + \\\n",
    "        \", lr=\" + \"{:.9f}\".format(plr) + \\\n",
    "        \", cost=\" + \"{:.3f}\".format(loss_value) + \\\n",
    "        #\", Train_Acc=\" + \"{:.2f}\".format(avg_train_acc) + \\\n",
    "        \", Test_Acc=\" + \"{:.2f}\".format(test_eval) + \n",
    "        \", Batch (sec)=\" + \"{:.3f}\".format(sec_per_batch)  ) \n",
    "        \n",
    "print(\"Wall Time:\",\"{:.1f}\".format((time.time() - tr_start)/60.0, \"Min\"))\n",
    "print(\"Optimization Finished!\")\n",
    "print (\"model saved to {}\".format(checkpoint_path))\n",
    "saver.save(sess, checkpoint_path, global_step = (epoch+1)*step)\n",
    "train_writer.close()"
   ]
  },
  {
   "cell_type": "code",
   "execution_count": 22,
   "metadata": {
    "button": false,
    "new_sheet": false,
    "run_control": {
     "read_only": false
    }
   },
   "outputs": [
    {
     "data": {
      "image/png": "[encoded data removed]",
      "text/plain": [
       "<matplotlib.figure.Figure at 0x14005e3abf90>"
      ]
     },
     "metadata": {},
     "output_type": "display_data"
    }
   ],
   "source": [
    "%matplotlib inline\n",
    "import numpy as np\n",
    "import matplotlib.pyplot as plt\n",
    "plt.plot([np.mean(loss_values[i:i+5]) for i in range(len(loss_values))])\n",
    "plt.show()\n"
   ]
  },
  {
   "cell_type": "markdown",
   "metadata": {},
   "source": [
    "## Evaluation\n",
    "Accuracy is depend on the number of epoch that you set in partametrs part."
   ]
  },
  {
   "cell_type": "code",
   "execution_count": 23,
   "metadata": {},
   "outputs": [
    {
     "name": "stdout",
     "output_type": "stream",
     "text": [
      "Confusion Matrix:\n",
      "[[181   1   8   0]\n",
      " [  3 134  57   0]\n",
      " [  3 131  57   0]\n",
      " [  0   0   0 193]]\n",
      "Precision:\n",
      "             precision    recall  f1-score   support\n",
      "\n",
      "          0       0.97      0.95      0.96       190\n",
      "          1       0.50      0.69      0.58       194\n",
      "          2       0.47      0.30      0.36       191\n",
      "          3       1.00      1.00      1.00       193\n",
      "\n",
      "avg / total       0.73      0.74      0.73       768\n",
      "\n",
      "Classification accuracy: 0.735677\n",
      "Log Loss: 0.906374\n"
     ]
    }
   ],
   "source": [
    "with tf.variable_scope(tf.get_variable_scope()):\n",
    "    tf.get_variable_scope().reuse_variables()\n",
    "    num_iter = int(math.ceil(dataset.test.num_examples / batch_size))\n",
    "    step = 0\n",
    "    pred_dict=[]\n",
    "    while step < num_iter:\n",
    "        #print step\n",
    "        x_batch, y_test = dataset.test.next_batch(batch_size)\n",
    "        image_test = tf.reshape(x_batch, [-1,height,width,1], name = 'image_test') \n",
    "        logits_test = inference(image_test)\n",
    "        pred = tf.cast(logits_test, tf.float32)\n",
    "        pred_lbl = sess.run(pred)\n",
    "        pred_dict.append((y_test, pred_lbl))\n",
    "        step += 1\n",
    "y_pred = [] # predicted\n",
    "y_lb = [] # ground truth labels\n",
    "y_pred_lb = [] # predicted labels\n",
    "for item in pred_dict:\n",
    "    for hotcode_val in item[0]:\n",
    "        y_lb.append(np.argmax(hotcode_val)) # ground truth\n",
    "    for hotcode_val in item[1]:\n",
    "        y_pred.append(hotcode_val)\n",
    "        y_pred_lb.append(np.argmax(hotcode_val)) # ground truth\n",
    "print \"Confusion Matrix:\"\n",
    "print metrics.confusion_matrix(y_true= y_lb, y_pred= y_pred_lb)\n",
    "print \"Precision:\"\n",
    "print metrics.classification_report(y_true= y_lb, y_pred= y_pred_lb)\n",
    "print(\"Classification accuracy: %0.6f\" % metrics.accuracy_score(y_true= y_lb, y_pred= y_pred_lb) )\n",
    "print(\"Log Loss: %0.6f\" % metrics.log_loss(y_true= y_lb, y_pred= y_pred))"
   ]
  },
  {
   "cell_type": "markdown",
   "metadata": {},
   "source": [
    "### Benchmark:\n",
    "- SETI_multi_gpu_train.py achieves ~70% accuracy after 3k epochs of data (45K steps).\n",
    "- Speed: With batch_size 128.  \n",
    "\n",
    "\n",
    "\n",
    "|          System              |   Step Time (sec/batch)   |         Accuracy                 |\n",
    "| ---------------------------- | :-----------------------: |--------------------------------: |\n",
    "| 4 P100 GPUs w/NVLink np8g4   |       ~0.017              | ~72% at 74K steps  (1.5 hours)   |\n",
    "\n"
   ]
  },
  {
   "cell_type": "markdown",
   "metadata": {
    "button": false,
    "new_sheet": false,
    "run_control": {
     "read_only": false
    }
   },
   "source": [
    "## Want to learn more?\n",
    "\n",
    "[Deep Learning with TensorFlow](http://cocl.us/SETI-NIMBIX-ML0102EN) is a free course in __cognitiveclass.ia__ where you can learn TensorFlow and Deep Learning togetherwe.\n",
    "\n",
    "Also, running deep learning programs usually needs a high performance platform. PowerAI speeds up deep learning and AI. Built on IBM's Power Systems, PowerAI is a scalable software platform that accelerates deep learning and AI with blazing performance for individual users or enterprises. The PowerAI platform supports popular machine learning libraries and dependencies including Tensorflow, Caffe, Torch, and Theano. You can download a [free version of PowerAI](http://cocl.us/SETI-NIMBIX-PowerAI)."
   ]
  },
  {
   "cell_type": "markdown",
   "metadata": {
    "button": false,
    "collapsed": true,
    "new_sheet": false,
    "run_control": {
     "read_only": false
    }
   },
   "source": [
    "### Authors\n",
    "\n",
    "<div class=\"teacher-image\" style=\"    float: left;\n",
    "    width: 115px;\n",
    "    height: 115px;\n",
    "    margin-right: 10px;\n",
    "    margin-bottom: 10px;\n",
    "    border: 1px solid #CCC;\n",
    "    padding: 3px;\n",
    "    border-radius: 3px;\n",
    "    text-align: center;\"><img class=\"alignnone wp-image-2258 \" src=\"https://ibm.box.com/shared/static/tyd41rlrnmfrrk78jx521eb73fljwvv0.jpg\" alt=\"Saeed Aghabozorgi\" width=\"178\" height=\"178\" /></div>\n",
    "#### Saeed Aghabozorgi\n",
    "\n",
    "[Saeed Aghabozorgi](https://ca.linkedin.com/in/saeedaghabozorgi), PhD is Sr. Data Scientist in IBM with a track record of developing enterprise level applications that substantially increases clients’ ability to turn data into actionable knowledge. He is a researcher in data mining field and expert in developing advanced analytic methods like machine learning and statistical modelling on large datasets.</p>\n",
    "\n"
   ]
  },
  {
   "cell_type": "code",
   "execution_count": null,
   "metadata": {
    "button": false,
    "new_sheet": false,
    "run_control": {
     "read_only": false
    }
   },
   "outputs": [],
   "source": []
  }
 ],
 "metadata": {
  "kernelspec": {
   "display_name": "Python 2",
   "language": "python",
   "name": "python2"
  },
  "language_info": {
   "codemirror_mode": {
    "name": "ipython",
    "version": 2
   },
   "file_extension": ".py",
   "mimetype": "text/x-python",
   "name": "python",
   "nbconvert_exporter": "python",
   "pygments_lexer": "ipython2",
   "version": "2.7.12"
  }
 },
 "nbformat": 4,
 "nbformat_minor": 1
}
